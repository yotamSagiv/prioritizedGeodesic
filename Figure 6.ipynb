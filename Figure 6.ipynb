{
 "cells": [
  {
   "cell_type": "markdown",
   "metadata": {},
   "source": [
    "### NB: Figure 6 is entirely drawn in Illustrator, so this notebook simply serves as a method of printing the data"
   ]
  },
  {
   "cell_type": "code",
   "execution_count": 1,
   "metadata": {},
   "outputs": [],
   "source": [
    "import numpy as np\n",
    "import matplotlib.pyplot as plt\n",
    "\n",
    "np.set_printoptions(precision=10, suppress=True)"
   ]
  },
  {
   "cell_type": "code",
   "execution_count": 2,
   "metadata": {},
   "outputs": [
    {
     "name": "stdout",
     "output_type": "stream",
     "text": [
      "posto\n",
      "prec\n",
      "hit_the_wall\n",
      "goal_seq\n",
      "wall_loc\n",
      "bn_ids\n",
      "bn_arm_start_ids\n",
      "states\n",
      "goal_ids\n",
      "\n",
      "Bottleneck IDs: [1 2 3]\n",
      "Bottleneck arm start IDs: [ 6  8 11]\n",
      "Goal IDs: [4 5]\n"
     ]
    }
   ],
   "source": [
    "d = np.load('./Data/prediction/GR.npz', allow_pickle=True)\n",
    "for key in d.keys():\n",
    "    print(key)\n",
    "\n",
    "print()\n",
    "print('Bottleneck IDs:', d['bn_ids'])\n",
    "print('Bottleneck arm start IDs:', d['bn_arm_start_ids'])\n",
    "print('Goal IDs:', d['goal_ids'])"
   ]
  },
  {
   "cell_type": "code",
   "execution_count": 6,
   "metadata": {},
   "outputs": [],
   "source": [
    "posto = d['posto']\n",
    "prec = d['prec']\n",
    "wall = d['hit_the_wall']\n",
    "goal_seq = d['goal_seq']\n",
    "wall_loc = d['wall_loc']\n",
    "\n",
    "num_mice = posto.shape[0]\n",
    "num_sessions = posto.shape[1]\n",
    "num_trials = posto.shape[2]"
   ]
  },
  {
   "cell_type": "code",
   "execution_count": 7,
   "metadata": {},
   "outputs": [
    {
     "data": {
      "text/plain": [
       "array([[31.,  3.,  5.],\n",
       "       [30.,  3., 31.],\n",
       "       [29.,  3., 30.],\n",
       "       [ 3.,  1., 29.],\n",
       "       [13.,  3.,  3.],\n",
       "       [12.,  3., 13.],\n",
       "       [11.,  3., 12.],\n",
       "       [ 0.,  2., 11.],\n",
       "       [ 6.,  4.,  0.],\n",
       "       [ 7.,  4.,  6.],\n",
       "       [20.,  3.,  4.],\n",
       "       [19.,  3., 20.],\n",
       "       [18.,  3., 19.],\n",
       "       [ 2.,  0., 18.],\n",
       "       [10.,  3.,  2.],\n",
       "       [ 9.,  3., 10.],\n",
       "       [ 8.,  3.,  9.],\n",
       "       [ 0.,  1.,  8.],\n",
       "       [ 6.,  4.,  0.],\n",
       "       [ 7.,  4.,  6.],\n",
       "       [ 8.,  3.,  9.],\n",
       "       [ 0.,  2., 11.],\n",
       "       [ 0.,  1.,  8.],\n",
       "       [25.,  4.,  3.],\n",
       "       [16.,  4.,  1.],\n",
       "       [20.,  3.,  4.],\n",
       "       [15.,  3.,  4.],\n",
       "       [27.,  3., 28.],\n",
       "       [22.,  3., 23.],\n",
       "       [ 3.,  1., 29.]])"
      ]
     },
     "execution_count": 7,
     "metadata": {},
     "output_type": "execute_result"
    }
   ],
   "source": [
    "wall[0, 0]"
   ]
  }
 ],
 "metadata": {
  "kernelspec": {
   "display_name": "Python 3 (ipykernel)",
   "language": "python",
   "name": "python3"
  },
  "language_info": {
   "codemirror_mode": {
    "name": "ipython",
    "version": 3
   },
   "file_extension": ".py",
   "mimetype": "text/x-python",
   "name": "python",
   "nbconvert_exporter": "python",
   "pygments_lexer": "ipython3",
   "version": "3.9.18"
  }
 },
 "nbformat": 4,
 "nbformat_minor": 4
}
